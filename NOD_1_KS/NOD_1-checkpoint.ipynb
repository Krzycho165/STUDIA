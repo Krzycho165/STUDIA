{
 "cells": [
  {
   "cell_type": "code",
   "execution_count": 1,
   "id": "c4ea1abe-4919-474f-96aa-7f326784dd3a",
   "metadata": {},
   "outputs": [],
   "source": [
    "# 1. Ładowanie biblioteki Pandas\n",
    "import pandas as pd\n"
   ]
  },
  {
   "cell_type": "code",
   "execution_count": 2,
   "id": "cd35ba25-ca06-4509-a1cb-32cb8de82581",
   "metadata": {},
   "outputs": [
    {
     "name": "stdout",
     "output_type": "stream",
     "text": [
      "Ramka danych utworzona ze słownika:\n",
      "     Kraj  Ludność (mln)  PKB (bln USD)\n",
      "0     USA            331           23.0\n",
      "1  Kanada             38            2.0\n",
      "2  Meksyk            128            1.3\n"
     ]
    }
   ],
   "source": [
    "# 2. Tworzenie ramki danych ze słownika\n",
    "dane_slownik = {\n",
    "    \"Kraj\": [\"USA\", \"Kanada\", \"Meksyk\"],\n",
    "    \"Ludność (mln)\": [331, 38, 128],\n",
    "    \"PKB (bln USD)\": [23, 2, 1.3]\n",
    "}\n",
    "\n",
    "ramka_danych_slownik = pd.DataFrame(dane_slownik)\n",
    "\n",
    "print(\"Ramka danych utworzona ze słownika:\")\n",
    "print(ramka_danych_slownik)\n"
   ]
  },
  {
   "cell_type": "code",
   "execution_count": 5,
   "id": "9f2b8576-8b17-4334-8c39-b70bbea94940",
   "metadata": {},
   "outputs": [
    {
     "name": "stdout",
     "output_type": "stream",
     "text": [
      "Ramka danych wczytana z pliku CSV:\n",
      "   location_id             location_name  year  sex_id   sex  age_group_id  \\\n",
      "0          102  United States of America  2016       1  Male           158   \n",
      "1          102  United States of America  2016       1  Male           170   \n",
      "2          102  United States of America  2016       1  Male           171   \n",
      "3          102  United States of America  2016       1  Male           154   \n",
      "4          102  United States of America  2016       1  Male            22   \n",
      "\n",
      "  age_group_name acause  cause_name  risk_id  \\\n",
      "0      <20 years   _all  All causes       82   \n",
      "1       20 to 44   _all  All causes       82   \n",
      "2       45 to 64   _all  All causes       82   \n",
      "3        65 plus   _all  All causes       82   \n",
      "4       All Ages   _all  All causes       82   \n",
      "\n",
      "                                   risk_name          metric        mean  \\\n",
      "0  Unsafe water, sanitation, and handwashing  2016 US Dollar   52.810750   \n",
      "1  Unsafe water, sanitation, and handwashing  2016 US Dollar   48.000244   \n",
      "2  Unsafe water, sanitation, and handwashing  2016 US Dollar   69.765933   \n",
      "3  Unsafe water, sanitation, and handwashing  2016 US Dollar   88.960404   \n",
      "4  Unsafe water, sanitation, and handwashing  2016 US Dollar  259.537331   \n",
      "\n",
      "        lower       upper  \n",
      "0   34.776353   76.466271  \n",
      "1   31.644490   70.893323  \n",
      "2   45.764417  101.797946  \n",
      "3   59.168652  128.091201  \n",
      "4  171.226033  375.015989  \n"
     ]
    }
   ],
   "source": [
    "# 3. Wczytanie danych z pliku CSV\n",
    "plik_csv = \"IHME_USA_RISK_SPENDING_2016_Y2020M09D29.csv\"\n",
    "ramka_danych_csv = pd.read_csv(plik_csv)\n",
    "\n",
    "# Wyświetlenie pierwszych wierszy ramki danych\n",
    "print(\"Ramka danych wczytana z pliku CSV:\")\n",
    "print(ramka_danych_csv.head())\n"
   ]
  },
  {
   "cell_type": "code",
   "execution_count": 6,
   "id": "e3b26b59-3b9f-44b9-8527-7d88c4a7af30",
   "metadata": {},
   "outputs": [
    {
     "name": "stdout",
     "output_type": "stream",
     "text": [
      "\n",
      "Ramka danych utworzona z listy list:\n",
      "      Miasto  Ludność    Kraj\n",
      "0  Nowy Jork  8419600     USA\n",
      "1    Toronto  2930000  Kanada\n",
      "2     Meksyk  9209944  Meksyk\n"
     ]
    }
   ],
   "source": [
    "# 4. Tworzenie ramki danych z listy list\n",
    "dane_lista = [\n",
    "    [\"Nowy Jork\", 8419600, \"USA\"],\n",
    "    [\"Toronto\", 2930000, \"Kanada\"],\n",
    "    [\"Meksyk\", 9209944, \"Meksyk\"]\n",
    "]\n",
    "\n",
    "ramka_danych_lista = pd.DataFrame(dane_lista, columns=[\"Miasto\", \"Ludność\", \"Kraj\"])\n",
    "\n",
    "print(\"\\nRamka danych utworzona z listy list:\")\n",
    "print(ramka_danych_lista)"
   ]
  },
  {
   "cell_type": "code",
   "execution_count": 7,
   "id": "dee6817d-3ee2-4f8e-a8a9-244b32f2e809",
   "metadata": {},
   "outputs": [
    {
     "name": "stdout",
     "output_type": "stream",
     "text": [
      "\n",
      "Ramka danych po transponowaniu:\n",
      "                 0        1        2\n",
      "Miasto   Nowy Jork  Toronto   Meksyk\n",
      "Ludność    8419600  2930000  9209944\n",
      "Kraj           USA   Kanada   Meksyk\n"
     ]
    }
   ],
   "source": [
    "# 5. Transponowanie (zamiana kolumn z wierszami)\n",
    "ramka_danych_lista_transponowana = ramka_danych_lista.T\n",
    "\n",
    "print(\"\\nRamka danych po transponowaniu:\")\n",
    "print(ramka_danych_lista_transponowana)\n"
   ]
  },
  {
   "cell_type": "code",
   "execution_count": 8,
   "id": "4149ac12-40f5-4a25-a2fa-7d0e95d7e2cd",
   "metadata": {},
   "outputs": [
    {
     "name": "stdout",
     "output_type": "stream",
     "text": [
      "\n",
      "Pierwsze 10 wierszy ramki danych:\n",
      "   location_id             location_name  year  sex_id     sex  age_group_id  \\\n",
      "0          102  United States of America  2016       1    Male           158   \n",
      "1          102  United States of America  2016       1    Male           170   \n",
      "2          102  United States of America  2016       1    Male           171   \n",
      "3          102  United States of America  2016       1    Male           154   \n",
      "4          102  United States of America  2016       1    Male            22   \n",
      "5          102  United States of America  2016       2  Female           158   \n",
      "6          102  United States of America  2016       2  Female           170   \n",
      "7          102  United States of America  2016       2  Female           171   \n",
      "8          102  United States of America  2016       2  Female           154   \n",
      "9          102  United States of America  2016       2  Female            22   \n",
      "\n",
      "  age_group_name acause  cause_name  risk_id  \\\n",
      "0      <20 years   _all  All causes       82   \n",
      "1       20 to 44   _all  All causes       82   \n",
      "2       45 to 64   _all  All causes       82   \n",
      "3        65 plus   _all  All causes       82   \n",
      "4       All Ages   _all  All causes       82   \n",
      "5      <20 years   _all  All causes       82   \n",
      "6       20 to 44   _all  All causes       82   \n",
      "7       45 to 64   _all  All causes       82   \n",
      "8        65 plus   _all  All causes       82   \n",
      "9       All Ages   _all  All causes       82   \n",
      "\n",
      "                                   risk_name          metric        mean  \\\n",
      "0  Unsafe water, sanitation, and handwashing  2016 US Dollar   52.810750   \n",
      "1  Unsafe water, sanitation, and handwashing  2016 US Dollar   48.000244   \n",
      "2  Unsafe water, sanitation, and handwashing  2016 US Dollar   69.765933   \n",
      "3  Unsafe water, sanitation, and handwashing  2016 US Dollar   88.960404   \n",
      "4  Unsafe water, sanitation, and handwashing  2016 US Dollar  259.537331   \n",
      "5  Unsafe water, sanitation, and handwashing  2016 US Dollar   50.183598   \n",
      "6  Unsafe water, sanitation, and handwashing  2016 US Dollar   68.050031   \n",
      "7  Unsafe water, sanitation, and handwashing  2016 US Dollar  101.383728   \n",
      "8  Unsafe water, sanitation, and handwashing  2016 US Dollar  143.750803   \n",
      "9  Unsafe water, sanitation, and handwashing  2016 US Dollar  363.368161   \n",
      "\n",
      "        lower       upper  \n",
      "0   34.776353   76.466271  \n",
      "1   31.644490   70.893323  \n",
      "2   45.764417  101.797946  \n",
      "3   59.168652  128.091201  \n",
      "4  171.226033  375.015989  \n",
      "5   33.315353   74.363904  \n",
      "6   44.128452  100.984476  \n",
      "7   66.731697  150.924915  \n",
      "8   94.584101  213.790479  \n",
      "9  240.982485  533.239066  \n"
     ]
    }
   ],
   "source": [
    "# 6. Wyświetlenie pierwszych 10 wierszy ramki danych\n",
    "print(\"\\nPierwsze 10 wierszy ramki danych:\")\n",
    "print(ramka_danych_csv.head(10))\n"
   ]
  },
  {
   "cell_type": "code",
   "execution_count": 9,
   "id": "da43e488-d1e7-4524-a711-2dda39c319dd",
   "metadata": {},
   "outputs": [
    {
     "name": "stdout",
     "output_type": "stream",
     "text": [
      "\n",
      "Ostatnie 10 wierszy ramki danych:\n",
      "      location_id             location_name  year  sex_id     sex  \\\n",
      "1231          102  United States of America  2016       2  Female   \n",
      "1232          102  United States of America  2016       2  Female   \n",
      "1233          102  United States of America  2016       2  Female   \n",
      "1234          102  United States of America  2016       2  Female   \n",
      "1235          102  United States of America  2016       2  Female   \n",
      "1236          102  United States of America  2016       3    Both   \n",
      "1237          102  United States of America  2016       3    Both   \n",
      "1238          102  United States of America  2016       3    Both   \n",
      "1239          102  United States of America  2016       3    Both   \n",
      "1240          102  United States of America  2016       3    Both   \n",
      "\n",
      "      age_group_id age_group_name acause                   cause_name  \\\n",
      "1231           158      <20 years     rf  Expenditure on risk factors   \n",
      "1232           170       20 to 44     rf  Expenditure on risk factors   \n",
      "1233           171       45 to 64     rf  Expenditure on risk factors   \n",
      "1234           154        65 plus     rf  Expenditure on risk factors   \n",
      "1235            22       All Ages     rf  Expenditure on risk factors   \n",
      "1236           158      <20 years     rf  Expenditure on risk factors   \n",
      "1237           170       20 to 44     rf  Expenditure on risk factors   \n",
      "1238           171       45 to 64     rf  Expenditure on risk factors   \n",
      "1239           154        65 plus     rf  Expenditure on risk factors   \n",
      "1240            22       All Ages     rf  Expenditure on risk factors   \n",
      "\n",
      "      risk_id             risk_name          metric         mean        lower  \\\n",
      "1231      108  High body-mass index  2016 US Dollar   101.248712    80.521641   \n",
      "1232      108  High body-mass index  2016 US Dollar  2867.831645  2015.340713   \n",
      "1233      108  High body-mass index  2016 US Dollar  3036.836793  2104.770152   \n",
      "1234      108  High body-mass index  2016 US Dollar  1025.951678   697.331792   \n",
      "1235      108  High body-mass index  2016 US Dollar  7031.868829  5216.248151   \n",
      "1236      108  High body-mass index  2016 US Dollar   186.043387   142.143526   \n",
      "1237      108  High body-mass index  2016 US Dollar  3697.662630  2626.047083   \n",
      "1238      108  High body-mass index  2016 US Dollar  4403.916422  3083.734761   \n",
      "1239      108  High body-mass index  2016 US Dollar  1457.018966  1104.520225   \n",
      "1240      108  High body-mass index  2016 US Dollar  9744.641404  7222.418431   \n",
      "\n",
      "             upper  \n",
      "1231    126.900237  \n",
      "1232   3745.282634  \n",
      "1233   3961.429497  \n",
      "1234   1909.052706  \n",
      "1235   8948.681094  \n",
      "1236    232.865620  \n",
      "1237   4824.208117  \n",
      "1238   5662.947080  \n",
      "1239   2292.252672  \n",
      "1240  12418.772000  \n"
     ]
    }
   ],
   "source": [
    "# 7. Wyświetlenie ostatnich 10 wierszy ramki danych\n",
    "print(\"\\nOstatnie 10 wierszy ramki danych:\")\n",
    "print(ramka_danych_csv.tail(10))"
   ]
  },
  {
   "cell_type": "code",
   "execution_count": 10,
   "id": "c8179de4-e502-4a43-a90a-a918ff5577ff",
   "metadata": {},
   "outputs": [
    {
     "name": "stdout",
     "output_type": "stream",
     "text": [
      "\n",
      "Informacje o ramce danych:\n",
      "<class 'pandas.core.frame.DataFrame'>\n",
      "RangeIndex: 1241 entries, 0 to 1240\n",
      "Data columns (total 15 columns):\n",
      " #   Column          Non-Null Count  Dtype  \n",
      "---  ------          --------------  -----  \n",
      " 0   location_id     1241 non-null   int64  \n",
      " 1   location_name   1241 non-null   object \n",
      " 2   year            1241 non-null   int64  \n",
      " 3   sex_id          1241 non-null   int64  \n",
      " 4   sex             1241 non-null   object \n",
      " 5   age_group_id    1241 non-null   int64  \n",
      " 6   age_group_name  1241 non-null   object \n",
      " 7   acause          1241 non-null   object \n",
      " 8   cause_name      1241 non-null   object \n",
      " 9   risk_id         1241 non-null   int64  \n",
      " 10  risk_name       1241 non-null   object \n",
      " 11  metric          1241 non-null   object \n",
      " 12  mean            1241 non-null   float64\n",
      " 13  lower           1241 non-null   float64\n",
      " 14  upper           1241 non-null   float64\n",
      "dtypes: float64(3), int64(5), object(7)\n",
      "memory usage: 145.6+ KB\n",
      "None\n"
     ]
    }
   ],
   "source": [
    "# 8. Wyświetlenie informacji o ramce danych\n",
    "print(\"\\nInformacje o ramce danych:\")\n",
    "print(ramka_danych_csv.info())\n"
   ]
  },
  {
   "cell_type": "code",
   "execution_count": 12,
   "id": "31d4991a-4b21-480e-a487-f71226b95438",
   "metadata": {},
   "outputs": [
    {
     "name": "stdout",
     "output_type": "stream",
     "text": [
      "\n",
      "Liczba wierszy i kolumn w ramce danych:\n",
      "(1241, 15)\n"
     ]
    }
   ],
   "source": [
    "# 9. Wyświetlenie liczby wierszy i kolumn\n",
    "print(\"\\nLiczba wierszy i kolumn w ramce danych:\")\n",
    "print(ramka_danych_csv.shape)  # Zwraca (liczba_wierszy, liczba_kolumn)\n",
    "\n"
   ]
  },
  {
   "cell_type": "code",
   "execution_count": 13,
   "id": "4336df85-d63f-4517-93d2-58f60b7f5f18",
   "metadata": {},
   "outputs": [
    {
     "name": "stdout",
     "output_type": "stream",
     "text": [
      "\n",
      "Statystyki dla kolumn liczbowych:\n",
      "       location_id    year       sex_id  age_group_id      risk_id  \\\n",
      "count       1241.0  1241.0  1241.000000   1241.000000  1241.000000   \n",
      "mean         102.0  2016.0     2.020145    132.887188   129.024174   \n",
      "std            0.0     0.0     0.812452     59.017044    73.481341   \n",
      "min          102.0  2016.0     1.000000     22.000000    82.000000   \n",
      "25%          102.0  2016.0     1.000000    154.000000    98.000000   \n",
      "50%          102.0  2016.0     2.000000    158.000000   105.000000   \n",
      "75%          102.0  2016.0     3.000000    170.000000   125.000000   \n",
      "max          102.0  2016.0     3.000000    171.000000   381.000000   \n",
      "\n",
      "                mean          lower          upper  \n",
      "count    1241.000000    1241.000000    1241.000000  \n",
      "mean     7523.642696    5972.186569    9227.098980  \n",
      "std     18443.451439   15681.094146   21316.739752  \n",
      "min         0.058442   -4401.524592       0.105215  \n",
      "25%       275.378150     129.072794     421.882542  \n",
      "50%      1372.476758     821.243571    2097.737090  \n",
      "75%      5763.893904    4033.397743    7515.218944  \n",
      "max    238503.405500  178217.189400  291573.753200  \n"
     ]
    }
   ],
   "source": [
    "# 10. Wyświetlenie informacji statystycznej o kolumnach liczbowych\n",
    "print(\"\\nStatystyki dla kolumn liczbowych:\")\n",
    "print(ramka_danych_csv.describe())\n"
   ]
  },
  {
   "cell_type": "code",
   "execution_count": 14,
   "id": "57cf229f-4d18-408f-bc28-5564d37c89e2",
   "metadata": {},
   "outputs": [
    {
     "name": "stdout",
     "output_type": "stream",
     "text": [
      "\n",
      "Statystyki dla kolumn kategorycznych:\n",
      "                   location_name     sex age_group_name acause  cause_name  \\\n",
      "count                       1241    1241           1241   1241        1241   \n",
      "unique                         1       3              5     13          13   \n",
      "top     United States of America  Female       20 to 44   _all  All causes   \n",
      "freq                        1241     422            271    268         268   \n",
      "\n",
      "          risk_name          metric  \n",
      "count          1241            1241  \n",
      "unique           19               1  \n",
      "top     Alcohol use  2016 US Dollar  \n",
      "freq            150            1241  \n"
     ]
    }
   ],
   "source": [
    "# 11. Wyświetlenie informacji statystycznej o kolumnach kategorycznych\n",
    "print(\"\\nStatystyki dla kolumn kategorycznych:\")\n",
    "print(ramka_danych_csv.describe(include=['object']))\n"
   ]
  },
  {
   "cell_type": "code",
   "execution_count": 15,
   "id": "882a3a2d-38ac-47ed-9f96-ad52be8cec3e",
   "metadata": {},
   "outputs": [
    {
     "name": "stdout",
     "output_type": "stream",
     "text": [
      "\n",
      "Brakujące wartości zostały usunięte. Aktualny kształt ramki danych:\n",
      "(1241, 15)\n"
     ]
    }
   ],
   "source": [
    "# 12. Usunięcie brakujących wartości w ramce danych\n",
    "ramka_danych_csv = ramka_danych_csv.dropna()\n",
    "\n",
    "print(\"\\nBrakujące wartości zostały usunięte. Aktualny kształt ramki danych:\")\n",
    "print(ramka_danych_csv.shape)  # Sprawdzenie liczby wierszy i kolumn po usunięciu braków\n"
   ]
  },
  {
   "cell_type": "code",
   "execution_count": 16,
   "id": "89da0af8-e44e-4550-bc02-db90ae2f8a1b",
   "metadata": {},
   "outputs": [
    {
     "name": "stdout",
     "output_type": "stream",
     "text": [
      "\n",
      "Dostępne kolumny w ramce danych:\n",
      "Index(['location_id', 'location_name', 'year', 'sex_id', 'sex', 'age_group_id',\n",
      "       'age_group_name', 'acause', 'cause_name', 'risk_id', 'risk_name',\n",
      "       'metric', 'mean', 'lower', 'upper'],\n",
      "      dtype='object')\n",
      "\n",
      "Wybór kolumn po nazwach:\n",
      "              location_name        mean\n",
      "0  United States of America   52.810750\n",
      "1  United States of America   48.000244\n",
      "2  United States of America   69.765933\n",
      "3  United States of America   88.960404\n",
      "4  United States of America  259.537331\n",
      "5  United States of America   50.183598\n",
      "\n",
      "Wybór kolumn po indeksach:\n",
      "              location_name  year\n",
      "0  United States of America  2016\n",
      "1  United States of America  2016\n",
      "2  United States of America  2016\n",
      "3  United States of America  2016\n",
      "4  United States of America  2016\n"
     ]
    }
   ],
   "source": [
    "# 13. Wybór wierszy i kolumn po nazwach oraz indeksach\n",
    "\n",
    "# Sprawdzenie dostępnych kolumn\n",
    "print(\"\\nDostępne kolumny w ramce danych:\")\n",
    "print(ramka_danych_csv.columns)\n",
    "\n",
    "# Wybór kolumn po nazwach (przykładowe kolumny)\n",
    "kolumny_do_wyboru = [\"location_name\", \"mean\"]\n",
    "kolumny_do_wyboru = [col for col in kolumny_do_wyboru if col in ramka_danych_csv.columns]\n",
    "\n",
    "print(\"\\nWybór kolumn po nazwach:\")\n",
    "print(ramka_danych_csv.loc[0:5, kolumny_do_wyboru])  # Pierwsze 6 wierszy\n",
    "\n",
    "# Wybór kolumn po indeksach\n",
    "print(\"\\nWybór kolumn po indeksach:\")\n",
    "print(ramka_danych_csv.iloc[0:5, 1:3])  #\n"
   ]
  },
  {
   "cell_type": "code",
   "execution_count": 17,
   "id": "636d5a64-eb4f-4c76-a5a7-00ca7498b2e9",
   "metadata": {},
   "outputs": [
    {
     "name": "stdout",
     "output_type": "stream",
     "text": [
      "\n",
      "Wiersze, gdzie risk_name to 'Alcohol use':\n",
      "      location_id             location_name  year  sex_id   sex  age_group_id  \\\n",
      "75            102  United States of America  2016       1  Male           158   \n",
      "76            102  United States of America  2016       1  Male           170   \n",
      "77            102  United States of America  2016       1  Male           171   \n",
      "78            102  United States of America  2016       1  Male           154   \n",
      "79            102  United States of America  2016       1  Male            22   \n",
      "...           ...                       ...   ...     ...   ...           ...   \n",
      "1089          102  United States of America  2016       3  Both           158   \n",
      "1090          102  United States of America  2016       3  Both           170   \n",
      "1091          102  United States of America  2016       3  Both           171   \n",
      "1092          102  United States of America  2016       3  Both           154   \n",
      "1093          102  United States of America  2016       3  Both            22   \n",
      "\n",
      "     age_group_name  acause          cause_name  risk_id    risk_name  \\\n",
      "75        <20 years    _all          All causes      102  Alcohol use   \n",
      "76         20 to 44    _all          All causes      102  Alcohol use   \n",
      "77         45 to 64    _all          All causes      102  Alcohol use   \n",
      "78          65 plus    _all          All causes      102  Alcohol use   \n",
      "79         All Ages    _all          All causes      102  Alcohol use   \n",
      "...             ...     ...                 ...      ...          ...   \n",
      "1089      <20 years  digest  Digestive diseases      102  Alcohol use   \n",
      "1090       20 to 44  digest  Digestive diseases      102  Alcohol use   \n",
      "1091       45 to 64  digest  Digestive diseases      102  Alcohol use   \n",
      "1092        65 plus  digest  Digestive diseases      102  Alcohol use   \n",
      "1093       All Ages  digest  Digestive diseases      102  Alcohol use   \n",
      "\n",
      "              metric          mean         lower         upper  \n",
      "75    2016 US Dollar    809.896112    564.217748   1136.318912  \n",
      "76    2016 US Dollar   9805.336756   7776.821020  12054.894010  \n",
      "77    2016 US Dollar  12964.862750   8391.647387  18270.423670  \n",
      "78    2016 US Dollar   5421.192741   1730.902323   9576.866836  \n",
      "79    2016 US Dollar  29001.288360  19289.247540  39797.832630  \n",
      "...              ...           ...           ...           ...  \n",
      "1089  2016 US Dollar     22.821660     10.088865     41.226727  \n",
      "1090  2016 US Dollar    905.703730    522.197991   1308.987930  \n",
      "1091  2016 US Dollar    916.635307    392.092905   1478.297508  \n",
      "1092  2016 US Dollar    277.444986     31.625331    540.776131  \n",
      "1093  2016 US Dollar   2122.605684    987.873947   3282.622546  \n",
      "\n",
      "[150 rows x 15 columns]\n"
     ]
    }
   ],
   "source": [
    "# 14. Wybór wierszy na podstawie określonej wartości kolumny\n",
    "\n",
    "# Sprawdzenie, czy kolumna \"risk_name\" istnieje w danych\n",
    "kolumna_filtrowana = \"risk_name\"\n",
    "wartosc_filtrowana = \"Alcohol use\"  # Możesz zmienić na inną wartość występującą w danych\n",
    "\n",
    "if kolumna_filtrowana in ramka_danych_csv.columns:\n",
    "    print(f\"\\nWiersze, gdzie {kolumna_filtrowana} to '{wartosc_filtrowana}':\")\n",
    "    print(ramka_danych_csv[ramka_danych_csv[kolumna_filtrowana] == wartosc_filtrowana])\n",
    "else:\n",
    "    print(f\"\\nBłąd: Kolumna '{kolumna_filtrowana}' nie istnieje w ramce danych.\")\n"
   ]
  },
  {
   "cell_type": "code",
   "execution_count": 19,
   "id": "cfc7c3c7-a5fc-4cd6-86a3-25e37adc2517",
   "metadata": {},
   "outputs": [
    {
     "name": "stdout",
     "output_type": "stream",
     "text": [
      "\n",
      "Wiersze, gdzie risk_name to 'Alcohol use' i year to 2016:\n",
      "      location_id             location_name  year  sex_id   sex  age_group_id  \\\n",
      "75            102  United States of America  2016       1  Male           158   \n",
      "76            102  United States of America  2016       1  Male           170   \n",
      "77            102  United States of America  2016       1  Male           171   \n",
      "78            102  United States of America  2016       1  Male           154   \n",
      "79            102  United States of America  2016       1  Male            22   \n",
      "...           ...                       ...   ...     ...   ...           ...   \n",
      "1089          102  United States of America  2016       3  Both           158   \n",
      "1090          102  United States of America  2016       3  Both           170   \n",
      "1091          102  United States of America  2016       3  Both           171   \n",
      "1092          102  United States of America  2016       3  Both           154   \n",
      "1093          102  United States of America  2016       3  Both            22   \n",
      "\n",
      "     age_group_name  acause          cause_name  risk_id    risk_name  \\\n",
      "75        <20 years    _all          All causes      102  Alcohol use   \n",
      "76         20 to 44    _all          All causes      102  Alcohol use   \n",
      "77         45 to 64    _all          All causes      102  Alcohol use   \n",
      "78          65 plus    _all          All causes      102  Alcohol use   \n",
      "79         All Ages    _all          All causes      102  Alcohol use   \n",
      "...             ...     ...                 ...      ...          ...   \n",
      "1089      <20 years  digest  Digestive diseases      102  Alcohol use   \n",
      "1090       20 to 44  digest  Digestive diseases      102  Alcohol use   \n",
      "1091       45 to 64  digest  Digestive diseases      102  Alcohol use   \n",
      "1092        65 plus  digest  Digestive diseases      102  Alcohol use   \n",
      "1093       All Ages  digest  Digestive diseases      102  Alcohol use   \n",
      "\n",
      "              metric          mean         lower         upper  \n",
      "75    2016 US Dollar    809.896112    564.217748   1136.318912  \n",
      "76    2016 US Dollar   9805.336756   7776.821020  12054.894010  \n",
      "77    2016 US Dollar  12964.862750   8391.647387  18270.423670  \n",
      "78    2016 US Dollar   5421.192741   1730.902323   9576.866836  \n",
      "79    2016 US Dollar  29001.288360  19289.247540  39797.832630  \n",
      "...              ...           ...           ...           ...  \n",
      "1089  2016 US Dollar     22.821660     10.088865     41.226727  \n",
      "1090  2016 US Dollar    905.703730    522.197991   1308.987930  \n",
      "1091  2016 US Dollar    916.635307    392.092905   1478.297508  \n",
      "1092  2016 US Dollar    277.444986     31.625331    540.776131  \n",
      "1093  2016 US Dollar   2122.605684    987.873947   3282.622546  \n",
      "\n",
      "[150 rows x 15 columns]\n"
     ]
    }
   ],
   "source": [
    "# 15. Wybór wierszy spełniających kilka warunków jednocześnie\n",
    "\n",
    "# Sprawdzamy, czy kolumny istnieją\n",
    "kolumna1 = \"risk_name\"\n",
    "wartosc1 = \"Alcohol use\"\n",
    "kolumna2 = \"year\"\n",
    "wartosc2 = 2016\n",
    "\n",
    "if kolumna1 in ramka_danych_csv.columns and kolumna2 in ramka_danych_csv.columns:\n",
    "    print(f\"\\nWiersze, gdzie {kolumna1} to '{wartosc1}' i {kolumna2} to {wartosc2}:\")\n",
    "    print(ramka_danych_csv[(ramka_danych_csv[kolumna1] == wartosc1) & (ramka_danych_csv[kolumna2] == wartosc2)])\n",
    "else:\n",
    "    print(f\"\\nBłąd: Jedna z kolumn '{kolumna1}' lub '{kolumna2}' nie istnieje w ramce danych.\")\n",
    "\n"
   ]
  },
  {
   "cell_type": "code",
   "execution_count": 20,
   "id": "cfb69890-4e5c-473d-a903-ce6904d49060",
   "metadata": {},
   "outputs": [
    {
     "name": "stdout",
     "output_type": "stream",
     "text": [
      "\n",
      "Wiersze, gdzie kolumna 'risk_name' zawiera słowo 'Tobacco':\n",
      "      location_id             location_name  year  sex_id     sex  \\\n",
      "60            102  United States of America  2016       1    Male   \n",
      "61            102  United States of America  2016       1    Male   \n",
      "62            102  United States of America  2016       1    Male   \n",
      "63            102  United States of America  2016       1    Male   \n",
      "64            102  United States of America  2016       1    Male   \n",
      "...           ...                       ...   ...     ...     ...   \n",
      "1176          102  United States of America  2016       2  Female   \n",
      "1177          102  United States of America  2016       3    Both   \n",
      "1178          102  United States of America  2016       3    Both   \n",
      "1179          102  United States of America  2016       3    Both   \n",
      "1180          102  United States of America  2016       3    Both   \n",
      "\n",
      "      age_group_id age_group_name acause                    cause_name  \\\n",
      "60             158      <20 years   _all                    All causes   \n",
      "61             170       20 to 44   _all                    All causes   \n",
      "62             171       45 to 64   _all                    All causes   \n",
      "63             154        65 plus   _all                    All causes   \n",
      "64              22       All Ages   _all                    All causes   \n",
      "...            ...            ...    ...                           ...   \n",
      "1176            22       All Ages   resp  Chronic respiratory diseases   \n",
      "1177           170       20 to 44   resp  Chronic respiratory diseases   \n",
      "1178           171       45 to 64   resp  Chronic respiratory diseases   \n",
      "1179           154        65 plus   resp  Chronic respiratory diseases   \n",
      "1180            22       All Ages   resp  Chronic respiratory diseases   \n",
      "\n",
      "      risk_id risk_name          metric          mean         lower  \\\n",
      "60         98   Tobacco  2016 US Dollar    517.466504    343.789930   \n",
      "61         98   Tobacco  2016 US Dollar   5858.348322   4965.560873   \n",
      "62         98   Tobacco  2016 US Dollar  33276.545480  29740.534840   \n",
      "63         98   Tobacco  2016 US Dollar  29654.174070  26291.391010   \n",
      "64         98   Tobacco  2016 US Dollar  69306.534370  62651.505670   \n",
      "...       ...       ...             ...           ...           ...   \n",
      "1176       98   Tobacco  2016 US Dollar   8222.271063   6747.414164   \n",
      "1177       98   Tobacco  2016 US Dollar    692.063133    407.813810   \n",
      "1178       98   Tobacco  2016 US Dollar   5600.259499   4531.227772   \n",
      "1179       98   Tobacco  2016 US Dollar   8758.646080   7274.289789   \n",
      "1180       98   Tobacco  2016 US Dollar  15050.968710  12542.772790   \n",
      "\n",
      "             upper  \n",
      "60      712.649285  \n",
      "61     6851.740572  \n",
      "62    36737.606660  \n",
      "63    33371.325550  \n",
      "64    76505.313690  \n",
      "...            ...  \n",
      "1176   9796.790450  \n",
      "1177    951.909694  \n",
      "1178   6718.759946  \n",
      "1179  10505.380740  \n",
      "1180  17889.599790  \n",
      "\n",
      "[126 rows x 15 columns]\n"
     ]
    }
   ],
   "source": [
    "# 16. Wybór wierszy, gdzie kolumna kategoryczna zawiera określone słowo\n",
    "\n",
    "# Kolumna do filtrowania i słowo kluczowe\n",
    "kolumna_filtrowana = \"risk_name\"\n",
    "slowo_kluczowe = \"Tobacco\"  # Możesz zmienić na inne słowo\n",
    "\n",
    "# Sprawdzenie, czy kolumna istnieje\n",
    "if kolumna_filtrowana in ramka_danych_csv.columns:\n",
    "    print(f\"\\nWiersze, gdzie kolumna '{kolumna_filtrowana}' zawiera słowo '{slowo_kluczowe}':\")\n",
    "    print(ramka_danych_csv[ramka_danych_csv[kolumna_filtrowana].str.contains(slowo_kluczowe, na=False, case=False)])\n",
    "else:\n",
    "    print(f\"\\nBłąd: Kolumna '{kolumna_filtrowana}' nie istnieje w ramce danych.\")\n"
   ]
  },
  {
   "cell_type": "code",
   "execution_count": 21,
   "id": "dff3f79a-4e06-49e3-be62-1b68a63fbb8d",
   "metadata": {},
   "outputs": [
    {
     "name": "stdout",
     "output_type": "stream",
     "text": [
      "\n",
      "Wiersze, gdzie kolumna 'risk_name' NIE zawiera słowa 'Tobacco':\n",
      "      location_id             location_name  year  sex_id   sex  age_group_id  \\\n",
      "0             102  United States of America  2016       1  Male           158   \n",
      "1             102  United States of America  2016       1  Male           170   \n",
      "2             102  United States of America  2016       1  Male           171   \n",
      "3             102  United States of America  2016       1  Male           154   \n",
      "4             102  United States of America  2016       1  Male            22   \n",
      "...           ...                       ...   ...     ...   ...           ...   \n",
      "1236          102  United States of America  2016       3  Both           158   \n",
      "1237          102  United States of America  2016       3  Both           170   \n",
      "1238          102  United States of America  2016       3  Both           171   \n",
      "1239          102  United States of America  2016       3  Both           154   \n",
      "1240          102  United States of America  2016       3  Both            22   \n",
      "\n",
      "     age_group_name acause                   cause_name  risk_id  \\\n",
      "0         <20 years   _all                   All causes       82   \n",
      "1          20 to 44   _all                   All causes       82   \n",
      "2          45 to 64   _all                   All causes       82   \n",
      "3           65 plus   _all                   All causes       82   \n",
      "4          All Ages   _all                   All causes       82   \n",
      "...             ...    ...                          ...      ...   \n",
      "1236      <20 years     rf  Expenditure on risk factors      108   \n",
      "1237       20 to 44     rf  Expenditure on risk factors      108   \n",
      "1238       45 to 64     rf  Expenditure on risk factors      108   \n",
      "1239        65 plus     rf  Expenditure on risk factors      108   \n",
      "1240       All Ages     rf  Expenditure on risk factors      108   \n",
      "\n",
      "                                      risk_name          metric         mean  \\\n",
      "0     Unsafe water, sanitation, and handwashing  2016 US Dollar    52.810750   \n",
      "1     Unsafe water, sanitation, and handwashing  2016 US Dollar    48.000244   \n",
      "2     Unsafe water, sanitation, and handwashing  2016 US Dollar    69.765933   \n",
      "3     Unsafe water, sanitation, and handwashing  2016 US Dollar    88.960404   \n",
      "4     Unsafe water, sanitation, and handwashing  2016 US Dollar   259.537331   \n",
      "...                                         ...             ...          ...   \n",
      "1236                       High body-mass index  2016 US Dollar   186.043387   \n",
      "1237                       High body-mass index  2016 US Dollar  3697.662630   \n",
      "1238                       High body-mass index  2016 US Dollar  4403.916422   \n",
      "1239                       High body-mass index  2016 US Dollar  1457.018966   \n",
      "1240                       High body-mass index  2016 US Dollar  9744.641404   \n",
      "\n",
      "            lower         upper  \n",
      "0       34.776353     76.466271  \n",
      "1       31.644490     70.893323  \n",
      "2       45.764417    101.797946  \n",
      "3       59.168652    128.091201  \n",
      "4      171.226033    375.015989  \n",
      "...           ...           ...  \n",
      "1236   142.143526    232.865620  \n",
      "1237  2626.047083   4824.208117  \n",
      "1238  3083.734761   5662.947080  \n",
      "1239  1104.520225   2292.252672  \n",
      "1240  7222.418431  12418.772000  \n",
      "\n",
      "[1115 rows x 15 columns]\n"
     ]
    }
   ],
   "source": [
    "# 17. Wybór wierszy, gdzie kolumna kategoryczna NIE zawiera określonego słowa\n",
    "\n",
    "# Kolumna do filtrowania i słowo kluczowe\n",
    "kolumna_filtrowana = \"risk_name\"\n",
    "slowo_kluczowe = \"Tobacco\"  # Możesz zmienić na inne słowo\n",
    "\n",
    "# Sprawdzenie, czy kolumna istnieje\n",
    "if kolumna_filtrowana in ramka_danych_csv.columns:\n",
    "    print(f\"\\nWiersze, gdzie kolumna '{kolumna_filtrowana}' NIE zawiera słowa '{slowo_kluczowe}':\")\n",
    "    print(ramka_danych_csv[~ramka_danych_csv[kolumna_filtrowana].str.contains(slowo_kluczowe, na=False, case=False)])\n",
    "else:\n",
    "    print(f\"\\nBłąd: Kolumna '{kolumna_filtrowana}' nie istnieje w ramce danych.\")\n"
   ]
  },
  {
   "cell_type": "code",
   "execution_count": 27,
   "id": "19f3bfee-94a7-470d-9256-534c53a13f50",
   "metadata": {},
   "outputs": [
    {
     "name": "stdout",
     "output_type": "stream",
     "text": [
      "\n",
      "Dostępne kolumny w ramce danych:\n",
      "Index(['location_id', 'location_name', 'year', 'sex_id', 'sex', 'age_group_id',\n",
      "       'age_group_name', 'acause', 'cause_name', 'risk_id', 'risk_name',\n",
      "       'metric', 'mean', 'lower', 'upper'],\n",
      "      dtype='object')\n"
     ]
    }
   ],
   "source": [
    "# 18. Tworzenie nowej kolumny na podstawie istniejących\n",
    "\n",
    "# Sprawdzenie dostępnych kolumn w pliku\n",
    "print(\"\\nDostępne kolumny w ramce danych:\")\n",
    "print(ramka_danych_csv.columns)\n",
    "\n",
    "# Wybór odpowiednich kolumn do obliczeń\n",
    "kolumna_istniejaca1 = \"spending_mean\"  # Przykładowa kolumna z wydatkami\n",
    "kolumna_istniejaca2 = \"population\"  # Przykładowa kolumna z populacją\n",
    "nowa_kolumna = \"spending_per_capita\"  # Nazwa nowej kolumny\n",
    "\n",
    "# Sprawdzenie, czy wymagane kolumny istnieją w danych\n",
    "if kolumna_istniejaca1 in ramka_danych_csv.columns and kolumna_istniejaca2 in ramka_danych_csv.columns:\n",
    "    # Tworzenie nowej kolumny jako iloraz dwóch istniejących wartości\n",
    "    ramka_danych_csv[nowa_kolumna] = ramka_danych_csv[kolumna_istniejaca1] / ramka_danych_csv[kolumna_istniejaca2]\n",
    "\n",
    "    print(f\"\\nNowa kolumna '{nowa_kolumna}' została utworzona na podstawie '{kolumna_istniejaca1}' i '{kolumna_istniejaca2}':\")\n",
    "    print(ramka_danych_csv[[kolumna_istniejaca1, kolumna_istniejaca2, nowa_kolumna]].head(10))\n"
   ]
  },
  {
   "cell_type": "code",
   "execution_count": 29,
   "id": "b21b78e6-d232-4a16-9eae-8bf1cd19d154",
   "metadata": {},
   "outputs": [
    {
     "name": "stdout",
     "output_type": "stream",
     "text": [
      "\n",
      "Aktualne kolumny w ramce danych:\n",
      "Index(['location_id', 'location_name', 'year', 'sex_id', 'sex', 'age_group_id',\n",
      "       'age_group_name', 'acause', 'cause_name', 'risk_id', 'risk_name',\n",
      "       'metric', 'mean', 'lower', 'upper'],\n",
      "      dtype='object')\n"
     ]
    }
   ],
   "source": [
    "# 21. Usunięcie kolumny z ramki danych\n",
    "\n",
    "kolumna_do_usuniecia = \"spending_per_capita\"  # Podaj nazwę kolumny do usunięcia\n",
    "\n",
    "# Sprawdzenie, czy kolumna istnieje w danych\n",
    "if kolumna_do_usuniecia in ramka_danych_csv.columns:\n",
    "    ramka_danych_csv = ramka_danych_csv.drop(columns=[kolumna_do_usuniecia])\n",
    "    print(f\"\\nKolumna '{kolumna_do_usuniecia}' została usunięta.\")\n",
    "\n",
    "# Wyświetlenie aktualnych kolumn po usunięciu\n",
    "print(\"\\nAktualne kolumny w ramce danych:\")\n",
    "print(ramka_danych_csv.columns)\n"
   ]
  },
  {
   "cell_type": "code",
   "execution_count": 30,
   "id": "60413b04-5d14-405a-addc-11bee5f491b9",
   "metadata": {},
   "outputs": [
    {
     "name": "stdout",
     "output_type": "stream",
     "text": [
      "\n",
      "Błąd: Kolumna 'spending_mean' nie istnieje w ramce danych.\n",
      "\n",
      "Aktualne kolumny w ramce danych:\n",
      "Index(['location_id', 'location_name', 'year', 'sex_id', 'sex', 'age_group_id',\n",
      "       'age_group_name', 'acause', 'cause_name', 'risk_id', 'risk_name',\n",
      "       'metric', 'mean', 'lower', 'upper'],\n",
      "      dtype='object')\n"
     ]
    }
   ],
   "source": [
    "# 22. Zmiana nazwy kolumny w ramce danych\n",
    "\n",
    "stara_nazwa = \"spending_mean\"  # Podaj aktualną nazwę kolumny\n",
    "nowa_nazwa = \"average_spending\"  # Podaj nową nazwę kolumny\n",
    "\n",
    "# Sprawdzenie, czy kolumna istnieje\n",
    "if stara_nazwa in ramka_danych_csv.columns:\n",
    "    ramka_danych_csv = ramka_danych_csv.rename(columns={stara_nazwa: nowa_nazwa})\n",
    "    print(f\"\\nZmieniono nazwę kolumny '{stara_nazwa}' na '{nowa_nazwa}'.\")\n",
    "else:\n",
    "    print(f\"\\nBłąd: Kolumna '{stara_nazwa}' nie istnieje w ramce danych.\")\n",
    "\n",
    "# Wyświetlenie aktualnych nazw kolumn\n",
    "print(\"\\nAktualne kolumny w ramce danych:\")\n",
    "print(ramka_danych_csv.columns)\n"
   ]
  },
  {
   "cell_type": "code",
   "execution_count": 32,
   "id": "ab231ceb-f921-4d76-a81f-4b83c5cf013e",
   "metadata": {},
   "outputs": [],
   "source": [
    "# 20. Zmień nazwę kolumny\n",
    "ramka_danych_csv = ramka_danych_csv.rename(columns={'location_name': 'location_country'})"
   ]
  },
  {
   "cell_type": "code",
   "execution_count": 34,
   "id": "b1a8d9e3-8f73-4824-95b1-704e7e7bce59",
   "metadata": {},
   "outputs": [
    {
     "name": "stdout",
     "output_type": "stream",
     "text": [
      "Index(['location_id', 'location_country', 'year', 'sex_id', 'sex',\n",
      "       'age_group_id', 'age_group_name', 'acause', 'cause_name', 'risk_id',\n",
      "       'risk_name', 'metric', 'mean', 'lower', 'upper'],\n",
      "      dtype='object')\n"
     ]
    }
   ],
   "source": [
    "print(ramka_danych_csv.columns)"
   ]
  },
  {
   "cell_type": "code",
   "execution_count": 35,
   "id": "9f2db95b-fa9b-4375-9124-998f5361466c",
   "metadata": {},
   "outputs": [],
   "source": [
    "# 21. Zachowaj ramkę danych jako plik csv na komputerze\n",
    "ramka_danych_csv.to_csv('updated_data.csv', index=False)"
   ]
  },
  {
   "cell_type": "code",
   "execution_count": 36,
   "id": "903cd3f8-4bd7-4c2a-8a31-8e385dff5de8",
   "metadata": {},
   "outputs": [
    {
     "name": "stdout",
     "output_type": "stream",
     "text": [
      "1241\n"
     ]
    }
   ],
   "source": [
    "# 22. Wyświetlić liczbę wierszy\n",
    "print(len(ramka_danych_csv))\n"
   ]
  },
  {
   "cell_type": "code",
   "execution_count": 37,
   "id": "f23d9be6-2dee-44f8-8162-c2ea1aaae23f",
   "metadata": {},
   "outputs": [
    {
     "name": "stdout",
     "output_type": "stream",
     "text": [
      "['United States of America']\n"
     ]
    }
   ],
   "source": [
    "# 23. Wyświetlić wartości unikatowe w kolumnie\n",
    "print(ramka_danych_csv['location_country'].unique())"
   ]
  },
  {
   "cell_type": "code",
   "execution_count": 38,
   "id": "9d750b25-bbdb-49d9-b9c1-c6dcf29aa515",
   "metadata": {},
   "outputs": [
    {
     "name": "stdout",
     "output_type": "stream",
     "text": [
      "location_country\n",
      "United States of America    1241\n",
      "Name: count, dtype: int64\n"
     ]
    }
   ],
   "source": [
    "# 24. Wyświetlić liczby rekordów odpowiadających do wartości\n",
    "print(ramka_danych_csv['location_country'].value_counts())"
   ]
  },
  {
   "cell_type": "code",
   "execution_count": 40,
   "id": "367531ac-2e4a-4762-a7c7-11412764ff46",
   "metadata": {},
   "outputs": [],
   "source": [
    "# 25. Sortowanie wierszy ramki danych według wartości określonej kolumny (malejąco, rosnąco)\n",
    "ramka_danych_csv = ramka_danych_csv.sort_values(by='location_country', ascending=False)"
   ]
  },
  {
   "cell_type": "code",
   "execution_count": 41,
   "id": "8c203881-5e81-42d6-973c-9b673b6a7b10",
   "metadata": {},
   "outputs": [
    {
     "name": "stdout",
     "output_type": "stream",
     "text": [
      "     location_id          location_country  year  sex_id     sex  \\\n",
      "147          102  United States of America  2016       3    Both   \n",
      "238          102  United States of America  2016       3    Both   \n",
      "251          102  United States of America  2016       3    Both   \n",
      "142          102  United States of America  2016       2  Female   \n",
      "171          102  United States of America  2016       3    Both   \n",
      "74           102  United States of America  2016       3    Both   \n",
      "146          102  United States of America  2016       3    Both   \n",
      "137          102  United States of America  2016       1    Male   \n",
      "145          102  United States of America  2016       3    Both   \n",
      "460          102  United States of America  2016       3    Both   \n",
      "\n",
      "     age_group_id age_group_name acause  \\\n",
      "147            22       All Ages   _all   \n",
      "238            22       All Ages   _all   \n",
      "251            22       All Ages   _all   \n",
      "142            22       All Ages   _all   \n",
      "171            22       All Ages   _all   \n",
      "74             22       All Ages   _all   \n",
      "146           154        65 plus   _all   \n",
      "137            22       All Ages   _all   \n",
      "145           171       45 to 64   _all   \n",
      "460            22       All Ages  _dube   \n",
      "\n",
      "                                            cause_name  risk_id  \\\n",
      "147                                         All causes      108   \n",
      "238                                         All causes      341   \n",
      "251                                         All causes      367   \n",
      "142                                         All causes      108   \n",
      "171                                         All causes      110   \n",
      "74                                          All causes       98   \n",
      "146                                         All causes      108   \n",
      "137                                         All causes      108   \n",
      "145                                         All causes      108   \n",
      "460  Diabetes and urogenital, blood, and endocrine ...      105   \n",
      "\n",
      "                        risk_name          metric         mean         lower  \\\n",
      "147          High body-mass index  2016 US Dollar  238503.4055  178217.18940   \n",
      "238  High systolic blood pressure  2016 US Dollar  179903.7277  164459.06720   \n",
      "251   High fasting plasma glucose  2016 US Dollar  171932.5283  154821.07370   \n",
      "142          High body-mass index  2016 US Dollar  133082.2466  100602.17950   \n",
      "171                 Dietary risks  2016 US Dollar  143551.7276  130343.09990   \n",
      "74                        Tobacco  2016 US Dollar  129959.6416  116812.01360   \n",
      "146          High body-mass index  2016 US Dollar  101327.8710   69506.57512   \n",
      "137          High body-mass index  2016 US Dollar  105421.1590   76396.68290   \n",
      "145          High body-mass index  2016 US Dollar  109030.3703   85125.38710   \n",
      "460   High fasting plasma glucose  2016 US Dollar  120366.3232  113086.49690   \n",
      "\n",
      "           upper  \n",
      "147  291573.7532  \n",
      "238  195962.0712  \n",
      "251  191940.1801  \n",
      "142  162581.4562  \n",
      "171  156080.6003  \n",
      "74   143525.1170  \n",
      "146  132702.6808  \n",
      "137  131279.1270  \n",
      "145  128130.7642  \n",
      "460  126741.3779  \n",
      "      location_id          location_country  year  sex_id     sex  \\\n",
      "1033          102  United States of America  2016       2  Female   \n",
      "1149          102  United States of America  2016       2  Female   \n",
      "874           102  United States of America  2016       2  Female   \n",
      "1028          102  United States of America  2016       1    Male   \n",
      "1038          102  United States of America  2016       3    Both   \n",
      "730           102  United States of America  2016       1    Male   \n",
      "735           102  United States of America  2016       2  Female   \n",
      "688           102  United States of America  2016       1    Male   \n",
      "693           102  United States of America  2016       2  Female   \n",
      "849           102  United States of America  2016       2  Female   \n",
      "\n",
      "      age_group_id age_group_name     acause                 cause_name  \\\n",
      "1033           158      <20 years        cvd    Cardiovascular diseases   \n",
      "1149           170       20 to 44        msk  Musculoskeletal disorders   \n",
      "874            158      <20 years  cirrhosis                  Cirrhosis   \n",
      "1028           158      <20 years        cvd    Cardiovascular diseases   \n",
      "1038           158      <20 years        cvd    Cardiovascular diseases   \n",
      "730            158      <20 years       _neo                  Neoplasms   \n",
      "735            158      <20 years       _neo                  Neoplasms   \n",
      "688            158      <20 years       _neo                  Neoplasms   \n",
      "693            158      <20 years       _neo                  Neoplasms   \n",
      "849            170       20 to 44     _neuro     Neurological disorders   \n",
      "\n",
      "      risk_id                    risk_name          metric      mean  \\\n",
      "1033      126           Occupational risks  2016 US Dollar  0.058442   \n",
      "1149      341     Impaired kidney function  2016 US Dollar  0.304079   \n",
      "874       102                  Alcohol use  2016 US Dollar  0.376233   \n",
      "1028      126           Occupational risks  2016 US Dollar  0.375501   \n",
      "1038      126           Occupational risks  2016 US Dollar  0.433943   \n",
      "730       103                     Drug use  2016 US Dollar  0.717406   \n",
      "735       103                     Drug use  2016 US Dollar  0.950784   \n",
      "688        89    Other environmental risks  2016 US Dollar  0.642990   \n",
      "693        89    Other environmental risks  2016 US Dollar  0.634566   \n",
      "849       105  High fasting plasma glucose  2016 US Dollar  0.662740   \n",
      "\n",
      "         lower     upper  \n",
      "1033  0.018899  0.105215  \n",
      "1149  0.217169  0.433294  \n",
      "874   0.217804  0.589010  \n",
      "1028  0.138020  0.642662  \n",
      "1038  0.187088  0.706757  \n",
      "730   0.501235  0.984388  \n",
      "735   0.689007  1.298707  \n",
      "688   0.107717  1.450370  \n",
      "693   0.105842  1.507581  \n",
      "849   0.100641  1.695272  \n"
     ]
    }
   ],
   "source": [
    "# 26. Wyświetlić wierszy dla 10 największych (najmniejszych) wartości określonej kolumny\n",
    "print(ramka_danych_csv.nlargest(10, 'upper'))\n",
    "print(ramka_danych_csv.nsmallest(10, 'upper'))"
   ]
  },
  {
   "cell_type": "code",
   "execution_count": 42,
   "id": "9dcacced-ca28-4116-b6c7-9149f6284a54",
   "metadata": {},
   "outputs": [
    {
     "name": "stdout",
     "output_type": "stream",
     "text": [
      "Empty DataFrame\n",
      "Columns: [location_id, location_country, year, sex_id, sex, age_group_id, age_group_name, acause, cause_name, risk_id, risk_name, metric, mean, lower, upper]\n",
      "Index: []\n"
     ]
    }
   ],
   "source": [
    "# 27. Wyświetlić wierszy dla 10 największych wartości określonej kolumny pod warunkiem określonych wartości innej kolumny\n",
    "filtered_data = ramka_danych_csv[ramka_danych_csv['location_country'] == 'Global']\n",
    "print(filtered_data.nlargest(10, 'lower'))"
   ]
  },
  {
   "cell_type": "code",
   "execution_count": 44,
   "id": "fe9744c3-d382-4c08-a623-1fe2025f66db",
   "metadata": {},
   "outputs": [
    {
     "name": "stdout",
     "output_type": "stream",
     "text": [
      "                               location_id    sex_id  age_group_id  \\\n",
      "location_country         year                                        \n",
      "United States of America 2016        102.0  2.020145    132.887188   \n",
      "\n",
      "                                  risk_id         mean        lower  \\\n",
      "location_country         year                                         \n",
      "United States of America 2016  129.024174  7523.642696  5972.186569   \n",
      "\n",
      "                                    upper  \n",
      "location_country         year              \n",
      "United States of America 2016  9227.09898  \n"
     ]
    }
   ],
   "source": [
    "# 28. Grupowanie wierszy według wartości kolumny skategoryzowanej, potem uśrednienie wartości wszystkich kolumn w grupie - MultiIndex\n",
    "grouped_mean = ramka_danych_csv.groupby(['location_country', 'year']).mean(numeric_only=True)\n",
    "print(grouped_mean)"
   ]
  },
  {
   "cell_type": "code",
   "execution_count": 45,
   "id": "16a97b02-e2e9-47fb-b021-46a128b58065",
   "metadata": {},
   "outputs": [
    {
     "name": "stdout",
     "output_type": "stream",
     "text": [
      "                       upper  year\n",
      "upper                             \n",
      "0.105215            0.105215  2016\n",
      "0.433294            0.433294  2016\n",
      "0.589010            0.589010  2016\n",
      "0.642662            0.642662  2016\n",
      "0.706757            0.706757  2016\n",
      "...                      ...   ...\n",
      "156080.600300  156080.600300  2016\n",
      "162581.456200  162581.456200  2016\n",
      "191940.180100  191940.180100  2016\n",
      "195962.071200  195962.071200  2016\n",
      "291573.753200  291573.753200  2016\n",
      "\n",
      "[1145 rows x 2 columns]\n"
     ]
    }
   ],
   "source": [
    "# 29. Grupowanie wierszy według wartości kolumny skategoryzowanej, potem uśrednienie wartości dla pewnych kolumn, liczba wartości i mediana dla pozostałych kolumn w grupach\n",
    "grouped_stats = ramka_danych_csv.groupby('upper').agg({\n",
    "    'upper': ['mean', 'count'],\n",
    "    'upper': 'median',\n",
    "    'year': 'max'\n",
    "})\n",
    "print(grouped_stats)"
   ]
  },
  {
   "cell_type": "code",
   "execution_count": 46,
   "id": "f4cf7249-a0ca-4ca5-9d75-87c642f88b08",
   "metadata": {},
   "outputs": [
    {
     "name": "stdout",
     "output_type": "stream",
     "text": [
      "['location_country', 'year']\n"
     ]
    }
   ],
   "source": [
    "# 30. Wyświetlić nazwy kolumn indeksu złożonego\n",
    "print(grouped_mean.index.names)"
   ]
  },
  {
   "cell_type": "code",
   "execution_count": 47,
   "id": "dce93714-1f3c-4bb0-a015-fca668fbe65b",
   "metadata": {},
   "outputs": [
    {
     "name": "stdout",
     "output_type": "stream",
     "text": [
      "                               location_id    sex_id  age_group_id  \\\n",
      "location_country         year                                        \n",
      "United States of America 2016        102.0  2.020145    132.887188   \n",
      "\n",
      "                                  risk_id         mean        lower  \\\n",
      "location_country         year                                         \n",
      "United States of America 2016  129.024174  7523.642696  5972.186569   \n",
      "\n",
      "                                    upper  \n",
      "location_country         year              \n",
      "United States of America 2016  9227.09898  \n"
     ]
    }
   ],
   "source": [
    "# 31. Posortować kolumnę˛ indeksu złożonego\n",
    "sorted_index = grouped_mean.sort_index()\n",
    "print(sorted_index)"
   ]
  },
  {
   "cell_type": "code",
   "execution_count": 48,
   "id": "f0057617-9693-442a-a68a-0d29626ee6f4",
   "metadata": {},
   "outputs": [
    {
     "name": "stdout",
     "output_type": "stream",
     "text": [
      "year                            2016\n",
      "location_country                    \n",
      "United States of America  9227.09898\n"
     ]
    }
   ],
   "source": [
    "# 32. Stworzyć tabele przestawną (pivot table) na podstawie ramki danych\n",
    "pivot_table = pd.pivot_table(ramka_danych_csv, values='upper', index=['location_country'], columns=['year'], aggfunc='mean')\n",
    "print(pivot_table)"
   ]
  },
  {
   "cell_type": "code",
   "execution_count": 49,
   "id": "dc36d40f-b479-4290-9341-3a29f874f04d",
   "metadata": {},
   "outputs": [
    {
     "name": "stdout",
     "output_type": "stream",
     "text": [
      "Index(['United States of America'], dtype='object', name='location_country')\n",
      "Index([2016], dtype='int64', name='year')\n"
     ]
    }
   ],
   "source": [
    "# 33. Wyświetlić indeksy i kolumny tabeli przestawnej\n",
    "print(pivot_table.index)\n",
    "print(pivot_table.columns)"
   ]
  },
  {
   "cell_type": "code",
   "execution_count": 50,
   "id": "ae9c00ed-064c-45c1-b89c-1f58cd6e2c78",
   "metadata": {},
   "outputs": [
    {
     "name": "stdout",
     "output_type": "stream",
     "text": [
      "MultiIndex([('United States of America', 9227.098980246341)],\n",
      "           names=['location_country', 2016])\n"
     ]
    }
   ],
   "source": [
    "# 34. Utwórz indeks złożony tabeli przestawnej i wyświetl go\n",
    "pivot_table = pivot_table.reset_index()\n",
    "pivot_table.set_index(['location_country'] + list(pivot_table.columns[1:]), inplace=True)\n",
    "print(pivot_table.index)"
   ]
  },
  {
   "cell_type": "code",
   "execution_count": 2,
   "id": "973f0a79-2eda-4150-aaa0-1ed98a4c96df",
   "metadata": {},
   "outputs": [
    {
     "data": {
      "image/png": "[encoded data removed]",
      "text/plain": [
       "<Figure size 1000x600 with 1 Axes>"
      ]
     },
     "metadata": {},
     "output_type": "display_data"
    }
   ],
   "source": [
    "35# Importujemy potrzebne biblioteki\n",
    "import pandas as pd\n",
    "import matplotlib.pyplot as plt\n",
    "\n",
    "36-37# Załaduj plik CSV\n",
    "file_path = 'IHME_USA_RISK_SPENDING_2016_Y2020M09D29.csv'\n",
    "df = pd.read_csv(file_path)\n",
    "\n",
    "# Ustawienie, by wykresy były widoczne bezpośrednio w notebooku\n",
    "%matplotlib inline\n",
    "\n",
    "# Przekształcamy dane do formatu \"długiego\" z użyciem melt\n",
    "df_melted = df[['year', 'risk_name', 'age_group_name', 'mean']]\n",
    "\n",
    "# Filtrujemy dane, np. dla konkretnego ryzyka\n",
    "df_risk = df_melted[df_melted['risk_name'] == 'Unsafe water, sanitation, and handwashing']\n",
    "\n",
    "# Grupujemy dane według roku i grupy wiekowej, obliczając średnią wartość\n",
    "df_grouped = df_risk.groupby(['year', 'age_group_name'])['mean'].mean().reset_index()\n",
    "\n",
    "# Tworzymy wykres\n",
    "plt.figure(figsize=(10, 6))\n",
    "for age_group in df_grouped['age_group_name'].unique():\n",
    "    data = df_grouped[df_grouped['age_group_name'] == age_group]\n",
    "    plt.plot(data['year'], data['mean'], label=f'Age group: {age_group}')\n",
    "\n",
    "# Dodajemy etykiety, legendę i tytuł\n",
    "plt.xlabel('Year')\n",
    "plt.ylabel('Mean Value (2016 US Dollar)')\n",
    "plt.title('Mean Values for Unsafe Water, Sanitation, and Handwashing by Age Group')\n",
    "plt.legend(title='Age Groups')\n",
    "plt.grid(True)\n",
    "\n",
    "# Pokaż wykres\n",
    "plt.show()\n"
   ]
  },
  {
   "cell_type": "code",
   "execution_count": 3,
   "id": "7f2efa4c-3887-479a-b23b-aed0715b5841",
   "metadata": {},
   "outputs": [
    {
     "data": {
      "image/png": "[encoded data removed]",
      "text/plain": [
       "<Figure size 1000x600 with 1 Axes>"
      ]
     },
     "metadata": {},
     "output_type": "display_data"
    }
   ],
   "source": [
    "# 38 Importujemy potrzebne biblioteki\n",
    "import pandas as pd\n",
    "import matplotlib.pyplot as plt\n",
    "\n",
    "# Załaduj plik CSV\n",
    "file_path = 'IHME_USA_RISK_SPENDING_2016_Y2020M09D29.csv'\n",
    "df = pd.read_csv(file_path)\n",
    "\n",
    "# Ustawienie, by wykresy były widoczne bezpośrednio w notebooku\n",
    "%matplotlib inline\n",
    "\n",
    "# Wybieramy kolumnę, np. 'mean', do narysowania histogramu\n",
    "column_to_plot = 'mean'\n",
    "\n",
    "# Rysowanie histogramu\n",
    "plt.figure(figsize=(10, 6))\n",
    "plt.hist(df[column_to_plot], bins=30, edgecolor='black')\n",
    "\n",
    "# Dodajemy etykiety i tytuł\n",
    "plt.xlabel(f'{column_to_plot} Value')\n",
    "plt.ylabel('Frequency')\n",
    "plt.title(f'Histogram of {column_to_plot}')\n",
    "\n",
    "# Pokaż wykres\n",
    "plt.show()\n"
   ]
  },
  {
   "cell_type": "code",
   "execution_count": 4,
   "id": "8ade7b2a-d268-4597-95df-b185377c66f8",
   "metadata": {},
   "outputs": [
    {
     "name": "stdout",
     "output_type": "stream",
     "text": [
      "  key  value1  value2\n",
      "0   A       1       4\n",
      "1   B       2       5\n",
      "  key  value1\n",
      "0   A       7\n",
      "1   B       8\n",
      "2   C       9\n",
      "3   D      10\n"
     ]
    }
   ],
   "source": [
    "# 39. Przedstawić sposoby łączenia ramek danych za pomocą metod merge i concat\n",
    "# Metoda merge:\n",
    "df1 = pd.DataFrame({'key': ['A', 'B', 'C'], 'value1': [1, 2, 3]})\n",
    "df2 = pd.DataFrame({'key': ['A', 'B', 'D'], 'value2': [4, 5, 6]})\n",
    "merged_df = pd.merge(df1, df2, on='key', how='inner')\n",
    "print(merged_df)\n",
    "# Metoda konkatenacji:\n",
    "df3 = pd.DataFrame({'key': ['A', 'B'], 'value1': [7, 8]})\n",
    "df4 = pd.DataFrame({'key': ['C', 'D'], 'value1': [9, 10]})\n",
    "concatenated_df = pd.concat([df3, df4], ignore_index=True)\n",
    "print(concatenated_df)"
   ]
  },
  {
   "cell_type": "code",
   "execution_count": 6,
   "id": "fc12cd8b-979c-454a-b1fb-f66b99bae811",
   "metadata": {},
   "outputs": [
    {
     "data": {
      "text/html": [
       "<div>\n",
       "<style scoped>\n",
       "    .dataframe tbody tr th:only-of-type {\n",
       "        vertical-align: middle;\n",
       "    }\n",
       "\n",
       "    .dataframe tbody tr th {\n",
       "        vertical-align: top;\n",
       "    }\n",
       "\n",
       "    .dataframe thead th {\n",
       "        text-align: right;\n",
       "    }\n",
       "</style>\n",
       "<table border=\"1\" class=\"dataframe\">\n",
       "  <thead>\n",
       "    <tr style=\"text-align: right;\">\n",
       "      <th></th>\n",
       "      <th>year</th>\n",
       "      <th>risk_name</th>\n",
       "      <th>mean</th>\n",
       "      <th>upper</th>\n",
       "      <th>lower</th>\n",
       "      <th>difference_upper_lower</th>\n",
       "      <th>average_value</th>\n",
       "      <th>mean_increased_10_percent</th>\n",
       "    </tr>\n",
       "  </thead>\n",
       "  <tbody>\n",
       "    <tr>\n",
       "      <th>0</th>\n",
       "      <td>2016</td>\n",
       "      <td>Unsafe water, sanitation, and handwashing</td>\n",
       "      <td>52.810750</td>\n",
       "      <td>76.466271</td>\n",
       "      <td>34.776353</td>\n",
       "      <td>41.689918</td>\n",
       "      <td>54.684458</td>\n",
       "      <td>58.091825</td>\n",
       "    </tr>\n",
       "    <tr>\n",
       "      <th>1</th>\n",
       "      <td>2016</td>\n",
       "      <td>Unsafe water, sanitation, and handwashing</td>\n",
       "      <td>48.000244</td>\n",
       "      <td>70.893323</td>\n",
       "      <td>31.644490</td>\n",
       "      <td>39.248833</td>\n",
       "      <td>50.179352</td>\n",
       "      <td>52.800268</td>\n",
       "    </tr>\n",
       "    <tr>\n",
       "      <th>2</th>\n",
       "      <td>2016</td>\n",
       "      <td>Unsafe water, sanitation, and handwashing</td>\n",
       "      <td>69.765933</td>\n",
       "      <td>101.797946</td>\n",
       "      <td>45.764417</td>\n",
       "      <td>56.033530</td>\n",
       "      <td>72.442765</td>\n",
       "      <td>76.742526</td>\n",
       "    </tr>\n",
       "    <tr>\n",
       "      <th>3</th>\n",
       "      <td>2016</td>\n",
       "      <td>Unsafe water, sanitation, and handwashing</td>\n",
       "      <td>88.960404</td>\n",
       "      <td>128.091201</td>\n",
       "      <td>59.168652</td>\n",
       "      <td>68.922549</td>\n",
       "      <td>92.073419</td>\n",
       "      <td>97.856445</td>\n",
       "    </tr>\n",
       "    <tr>\n",
       "      <th>4</th>\n",
       "      <td>2016</td>\n",
       "      <td>Unsafe water, sanitation, and handwashing</td>\n",
       "      <td>259.537331</td>\n",
       "      <td>375.015989</td>\n",
       "      <td>171.226033</td>\n",
       "      <td>203.789956</td>\n",
       "      <td>268.593118</td>\n",
       "      <td>285.491064</td>\n",
       "    </tr>\n",
       "  </tbody>\n",
       "</table>\n",
       "</div>"
      ],
      "text/plain": [
       "   year                                  risk_name        mean       upper  \\\n",
       "0  2016  Unsafe water, sanitation, and handwashing   52.810750   76.466271   \n",
       "1  2016  Unsafe water, sanitation, and handwashing   48.000244   70.893323   \n",
       "2  2016  Unsafe water, sanitation, and handwashing   69.765933  101.797946   \n",
       "3  2016  Unsafe water, sanitation, and handwashing   88.960404  128.091201   \n",
       "4  2016  Unsafe water, sanitation, and handwashing  259.537331  375.015989   \n",
       "\n",
       "        lower  difference_upper_lower  average_value  \\\n",
       "0   34.776353               41.689918      54.684458   \n",
       "1   31.644490               39.248833      50.179352   \n",
       "2   45.764417               56.033530      72.442765   \n",
       "3   59.168652               68.922549      92.073419   \n",
       "4  171.226033              203.789956     268.593118   \n",
       "\n",
       "   mean_increased_10_percent  \n",
       "0                  58.091825  \n",
       "1                  52.800268  \n",
       "2                  76.742526  \n",
       "3                  97.856445  \n",
       "4                 285.491064  "
      ]
     },
     "execution_count": 6,
     "metadata": {},
     "output_type": "execute_result"
    }
   ],
   "source": [
    "# 40Importujemy potrzebne biblioteki\n",
    "import pandas as pd\n",
    "\n",
    "# Załaduj plik CSV\n",
    "file_path = 'IHME_USA_RISK_SPENDING_2016_Y2020M09D29.csv'\n",
    "df = pd.read_csv(file_path)\n",
    "\n",
    "# Ustawienie, by wykresy były widoczne bezpośrednio w notebooku\n",
    "%matplotlib inline\n",
    "\n",
    "# 1. Dodanie kolumny różnicy między 'upper' a 'lower'\n",
    "df['difference_upper_lower'] = df['upper'] - df['lower']\n",
    "\n",
    "# 2. Dodanie kolumny średniej wartości z 'mean', 'upper' i 'lower'\n",
    "df['average_value'] = (df['mean'] + df['upper'] + df['lower']) / 3\n",
    "\n",
    "# 3. Dodanie kolumny, która będzie wynikiem mnożenia 'mean' przez 1.1 (np. 10% wzrost)\n",
    "df['mean_increased_10_percent'] = df['mean'] * 1.1\n",
    "\n",
    "# Wyświetlamy pierwsze 5 wierszy, aby sprawdzić nowe kolumny\n",
    "df[['year', 'risk_name', 'mean', 'upper', 'lower', 'difference_upper_lower', 'average_value', 'mean_increased_10_percent']].head()\n"
   ]
  },
  {
   "cell_type": "code",
   "execution_count": 8,
   "id": "55b94d36-d9c9-4d0c-befd-8ea0c0992e09",
   "metadata": {},
   "outputs": [
    {
     "data": {
      "text/html": [
       "<div>\n",
       "<style scoped>\n",
       "    .dataframe tbody tr th:only-of-type {\n",
       "        vertical-align: middle;\n",
       "    }\n",
       "\n",
       "    .dataframe tbody tr th {\n",
       "        vertical-align: top;\n",
       "    }\n",
       "\n",
       "    .dataframe thead th {\n",
       "        text-align: right;\n",
       "    }\n",
       "</style>\n",
       "<table border=\"1\" class=\"dataframe\">\n",
       "  <thead>\n",
       "    <tr style=\"text-align: right;\">\n",
       "      <th></th>\n",
       "      <th>year</th>\n",
       "      <th>risk_name</th>\n",
       "      <th>mean</th>\n",
       "      <th>risk_level</th>\n",
       "      <th>sex</th>\n",
       "      <th>sex_short</th>\n",
       "      <th>age_group_name</th>\n",
       "      <th>age_category</th>\n",
       "    </tr>\n",
       "  </thead>\n",
       "  <tbody>\n",
       "    <tr>\n",
       "      <th>0</th>\n",
       "      <td>2016</td>\n",
       "      <td>Unsafe water, sanitation, and handwashing</td>\n",
       "      <td>52.810750</td>\n",
       "      <td>Low</td>\n",
       "      <td>Male</td>\n",
       "      <td>M</td>\n",
       "      <td>&lt;20 years</td>\n",
       "      <td>Adult</td>\n",
       "    </tr>\n",
       "    <tr>\n",
       "      <th>1</th>\n",
       "      <td>2016</td>\n",
       "      <td>Unsafe water, sanitation, and handwashing</td>\n",
       "      <td>48.000244</td>\n",
       "      <td>Low</td>\n",
       "      <td>Male</td>\n",
       "      <td>M</td>\n",
       "      <td>20 to 44</td>\n",
       "      <td>Adult</td>\n",
       "    </tr>\n",
       "    <tr>\n",
       "      <th>2</th>\n",
       "      <td>2016</td>\n",
       "      <td>Unsafe water, sanitation, and handwashing</td>\n",
       "      <td>69.765933</td>\n",
       "      <td>Low</td>\n",
       "      <td>Male</td>\n",
       "      <td>M</td>\n",
       "      <td>45 to 64</td>\n",
       "      <td>Adult</td>\n",
       "    </tr>\n",
       "    <tr>\n",
       "      <th>3</th>\n",
       "      <td>2016</td>\n",
       "      <td>Unsafe water, sanitation, and handwashing</td>\n",
       "      <td>88.960404</td>\n",
       "      <td>Low</td>\n",
       "      <td>Male</td>\n",
       "      <td>M</td>\n",
       "      <td>65 plus</td>\n",
       "      <td>Senior</td>\n",
       "    </tr>\n",
       "    <tr>\n",
       "      <th>4</th>\n",
       "      <td>2016</td>\n",
       "      <td>Unsafe water, sanitation, and handwashing</td>\n",
       "      <td>259.537331</td>\n",
       "      <td>Low</td>\n",
       "      <td>Male</td>\n",
       "      <td>M</td>\n",
       "      <td>All Ages</td>\n",
       "      <td>Adult</td>\n",
       "    </tr>\n",
       "  </tbody>\n",
       "</table>\n",
       "</div>"
      ],
      "text/plain": [
       "   year                                  risk_name        mean risk_level  \\\n",
       "0  2016  Unsafe water, sanitation, and handwashing   52.810750        Low   \n",
       "1  2016  Unsafe water, sanitation, and handwashing   48.000244        Low   \n",
       "2  2016  Unsafe water, sanitation, and handwashing   69.765933        Low   \n",
       "3  2016  Unsafe water, sanitation, and handwashing   88.960404        Low   \n",
       "4  2016  Unsafe water, sanitation, and handwashing  259.537331        Low   \n",
       "\n",
       "    sex sex_short age_group_name age_category  \n",
       "0  Male         M      <20 years        Adult  \n",
       "1  Male         M       20 to 44        Adult  \n",
       "2  Male         M       45 to 64        Adult  \n",
       "3  Male         M        65 plus       Senior  \n",
       "4  Male         M       All Ages        Adult  "
      ]
     },
     "execution_count": 8,
     "metadata": {},
     "output_type": "execute_result"
    }
   ],
   "source": [
    "# 41 Importujemy bibliotekę\n",
    "import pandas as pd\n",
    "\n",
    "# Załaduj plik CSV\n",
    "file_path = 'IHME_USA_RISK_SPENDING_2016_Y2020M09D29.csv'\n",
    "df = pd.read_csv(file_path)\n",
    "\n",
    "# 1. Tworzenie nowej kolumny \"risk_level\" na podstawie wartości 'mean'\n",
    "mean_threshold = df['mean'].mean()  # Obliczamy średnią wartość mean\n",
    "df['risk_level'] = df['mean'].apply(lambda x: 'High' if x > mean_threshold else 'Low')\n",
    "\n",
    "# 2. Zamiana nazw płci na skróconą formę (\"Male\" → \"M\", \"Female\" → \"F\")\n",
    "df['sex_short'] = df['sex'].apply(lambda x: 'M' if x == 'Male' else 'F')\n",
    "\n",
    "# 3. Kategoryzacja wieku (jeśli \"plus\" w nazwie grupy wiekowej, oznaczamy jako \"Senior\")\n",
    "df['age_category'] = df['age_group_name'].apply(lambda x: 'Senior' if 'plus' in x else 'Adult')\n",
    "\n",
    "# Wyświetlamy kilka pierwszych wierszy z nowymi kolumnami\n",
    "df[['year', 'risk_name', 'mean', 'risk_level', 'sex', 'sex_short', 'age_group_name', 'age_category']].head()\n",
    "\n"
   ]
  },
  {
   "cell_type": "code",
   "execution_count": 12,
   "id": "f09a8fc6-4ab9-4009-8660-2d6de813bf77",
   "metadata": {},
   "outputs": [
    {
     "name": "stdout",
     "output_type": "stream",
     "text": [
      "   location_id             location_name  year  sex_id   sex  age_group_id  \\\n",
      "0          102  United States of America  2016       1  Male           158   \n",
      "1          102  United States of America  2016       1  Male           170   \n",
      "2          102  United States of America  2016       1  Male           171   \n",
      "3          102  United States of America  2016       1  Male           154   \n",
      "\n",
      "  age_group_name acause  cause_name  risk_id  \\\n",
      "0      <20 years   _all  All causes       82   \n",
      "1       20 to 44   _all  All causes       82   \n",
      "2       45 to 64   _all  All causes       82   \n",
      "3        65 plus   _all  All causes       82   \n",
      "\n",
      "                                   risk_name          metric       mean  \\\n",
      "0  Unsafe water, sanitation, and handwashing  2016 US Dollar  52.810750   \n",
      "1  Unsafe water, sanitation, and handwashing  2016 US Dollar  48.000244   \n",
      "2  Unsafe water, sanitation, and handwashing  2016 US Dollar  69.765933   \n",
      "3  Unsafe water, sanitation, and handwashing  2016 US Dollar  88.960404   \n",
      "\n",
      "       lower       upper  \n",
      "0  34.776353   76.466271  \n",
      "1  31.644490   70.893323  \n",
      "2  45.764417  101.797946  \n",
      "3  59.168652  128.091201  \n"
     ]
    }
   ],
   "source": [
    "# 42. Przedstawić możliwości pracy z dużymi plikami przy użyciu argumentu chunksize\n",
    "chunksize = 10000\n",
    "for chunk in pd.read_csv('IHME_USA_RISK_SPENDING_2016_Y2020M09D29.csv', chunksize=chunksize):\n",
    "    print(chunk.head(4))"
   ]
  },
  {
   "cell_type": "code",
   "execution_count": null,
   "id": "4ac98c46-9aca-4ab9-b81c-144bd0330d54",
   "metadata": {},
   "outputs": [],
   "source": []
  }
 ],
 "metadata": {
  "kernelspec": {
   "display_name": "Python 3 (ipykernel)",
   "language": "python",
   "name": "python3"
  },
  "language_info": {
   "codemirror_mode": {
    "name": "ipython",
    "version": 3
   },
   "file_extension": ".py",
   "mimetype": "text/x-python",
   "name": "python",
   "nbconvert_exporter": "python",
   "pygments_lexer": "ipython3",
   "version": "3.13.0"
  }
 },
 "nbformat": 4,
 "nbformat_minor": 5
}
