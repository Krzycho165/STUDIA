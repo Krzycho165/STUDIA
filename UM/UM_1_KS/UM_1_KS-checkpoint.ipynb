{
 "cells": [
  {
   "cell_type": "code",
   "execution_count": 5,
   "id": "16b9bd91-2500-44f8-bf04-46822e35be58",
   "metadata": {},
   "outputs": [],
   "source": [
    "import pandas as pd\n",
    "import numpy as np\n",
    "from sklearn.model_selection import train_test_split\n",
    "from sklearn.linear_model import LinearRegression\n",
    "from sklearn.svm import SVC\n",
    "from sklearn.metrics import mean_squared_error, r2_score, accuracy_score, classification_report\n",
    "\n",
    "# 1. Wczytanie danych, wstępne przetworzenie i kategoryzacja danych\n",
    "data = pd.read_csv(\"Smoker_Epigenetic_df.csv\")\n",
    "data = data.dropna()\n",
    "data['Smoking Status'] = data['Smoking Status'].map({'current': 1, 'former': 0, 'never': 0})\n",
    "data['Gender'] = data['Gender'].map({'f': 0, 'm': 1}) \n",
    "import numpy as np\n",
    "from sklearn.model_selection import train_test_split\n",
    "from sklearn.linear_model import LinearRegression\n",
    "from sklearn.svm import SVC\n",
    "from sklearn.metrics import mean_squared_error, r2_score, accuracy_score, classification_report\n",
    "\n",
    "# 1. Wczytanie danych, wstępne przetworzenie i kategoryzacja danych\n",
    "data = pd.read_csv(\"Smoker_Epigenetic_df.csv\")\n",
    "data = data.dropna()\n",
    "data['Smoking Status'] = data['Smoking Status'].map({'current': 1, 'former': 0, 'never': 0})\n",
    "data['Gender'] = data['Gender'].map({'f': 0, 'm': 1})"
   ]
  },
  {
   "cell_type": "code",
   "execution_count": 6,
   "id": "88dd83ee-edba-4133-8533-ea1b415900c1",
   "metadata": {},
   "outputs": [],
   "source": [
    "# 2. Wyodrębnienie cech, zmiennych docelowych i podział na zbiór treningowy i testowy:\n",
    "\n",
    "X = data.iloc[:, 4:]  # cechy epigenetyczne\n",
    "y_regression = data['cg03683899']  # zmienna docelowa regresji\n",
    "y_classification = data['Smoking Status']  # zmienna docelowa klasyfikacji\n",
    "\n",
    "X_train_reg, X_test_reg, y_train_reg, y_test_reg = train_test_split(X, y_regression, test_size=0.2, random_state=42)\n",
    "X_train_clf, X_test_clf, y_train_clf, y_test_clf = train_test_split(X, y_classification, test_size=0.2, random_state=42)"
   ]
  },
  {
   "cell_type": "code",
   "execution_count": 7,
   "id": "d7160ede-f6e6-4589-9f37-36687a98d6e6",
   "metadata": {},
   "outputs": [
    {
     "name": "stdout",
     "output_type": "stream",
     "text": [
      "Regresja liniowa - MSE: 1.6641275981354876e-30\n",
      "Regresja liniowa - R²: 1.0\n"
     ]
    }
   ],
   "source": [
    "# 3. Regresja liniowa i ocena modelu regresji\n",
    "\n",
    "lin_reg = LinearRegression()\n",
    "lin_reg.fit(X_train_reg, y_train_reg)\n",
    "y_pred_reg = lin_reg.predict(X_test_reg)\n",
    "\n",
    "mse = mean_squared_error(y_test_reg, y_pred_reg)\n",
    "r2 = r2_score(y_test_reg, y_pred_reg)\n",
    "print(\"Regresja liniowa - MSE:\", mse)\n",
    "print(\"Regresja liniowa - R²:\", r2)"
   ]
  },
  {
   "cell_type": "code",
   "execution_count": 9,
   "id": "215b75b2-3d8f-428a-8dd2-caee7baef1f4",
   "metadata": {},
   "outputs": [],
   "source": [
    "# 4. Klasyfikacja binarna\n",
    "svm_clf = SVC(kernel='linear', C=1.0, random_state=42)\n",
    "svm_clf.fit(X_train_clf, y_train_clf)\n",
    "y_pred_clf = svm_clf.predict(X_test_clf)"
   ]
  },
  {
   "cell_type": "code",
   "execution_count": 10,
   "id": "386deef4-ab77-4fb1-a473-dd9c0b8a2c41",
   "metadata": {},
   "outputs": [
    {
     "name": "stdout",
     "output_type": "stream",
     "text": [
      "Klasyfikacja binarna - Accuracy: 0.704\n",
      "Klasyfikacja binarna - Raport klasyfikacji:\n",
      "              precision    recall  f1-score   support\n",
      "\n",
      "           0       0.00      0.00      0.00        37\n",
      "           1       0.70      1.00      0.83        88\n",
      "\n",
      "    accuracy                           0.70       125\n",
      "   macro avg       0.35      0.50      0.41       125\n",
      "weighted avg       0.50      0.70      0.58       125\n",
      "\n"
     ]
    }
   ],
   "source": [
    "# 5. Ocena modelu klasyfikacji\n",
    "\n",
    "accuracy = accuracy_score(y_test_clf, y_pred_clf)\n",
    "print(\"Klasyfikacja binarna - Accuracy:\", accuracy)\n",
    "print(\"Klasyfikacja binarna - Raport klasyfikacji:\")\n",
    "print(classification_report(y_test_clf, y_pred_clf, zero_division=0))"
   ]
  },
  {
   "cell_type": "code",
   "execution_count": null,
   "id": "f74badd3-ba9d-4f90-b275-b1e80c342dab",
   "metadata": {},
   "outputs": [],
   "source": []
  }
 ],
 "metadata": {
  "kernelspec": {
   "display_name": "Python 3 (ipykernel)",
   "language": "python",
   "name": "python3"
  },
  "language_info": {
   "codemirror_mode": {
    "name": "ipython",
    "version": 3
   },
   "file_extension": ".py",
   "mimetype": "text/x-python",
   "name": "python",
   "nbconvert_exporter": "python",
   "pygments_lexer": "ipython3",
   "version": "3.10.0"
  }
 },
 "nbformat": 4,
 "nbformat_minor": 5
}
